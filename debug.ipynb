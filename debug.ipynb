{
 "cells": [
  {
   "cell_type": "code",
   "execution_count": 8,
   "metadata": {},
   "outputs": [
    {
     "name": "stdout",
     "output_type": "stream",
     "text": [
      "32.540085710391615 rad\n",
      "32.540085710391615 rad\n",
      "32.540085710391615 rad\n",
      "29.398493056801822 rad\n",
      "13.128450201606015 rad\n",
      "5.178915489442774 rad\n",
      "5.178915489442774 rad\n",
      "5.178915489442774 rad\n",
      "2.037322835852981 rad\n",
      "2.037322835852981 rad\n",
      "1.5707963267948983 rad\n",
      "-1.5707963267948948 rad\n",
      "-3.141592653589793 rad\n",
      "0.0 rad\n"
     ]
    }
   ],
   "source": [
    "from math import pi\n",
    "\n",
    "from anglr import Angle\n",
    "\n",
    "print(Angle(-870.3, \"gradians\").normalized())\n",
    "print(Angle(-870.3, \"gradians\").normalized(0)) # same as above\n",
    "print(Angle(-870.3, \"gradians\").normalized(0, 2 * pi)) # same as above\n",
    "print(Angle(-870.3, \"gradians\").normalized(-pi, pi))\n",
    "print(Angle(-870.3, \"gradians\").normalized(-pi, 0))\n",
    "\n",
    "print(Angle(-870.3, \"gradians\").normalize())\n",
    "print(Angle(-870.3, \"gradians\").normalize(0)) # same as above\n",
    "print(Angle(-870.3, \"gradians\").normalize(0, 2 * pi)) # same as above\n",
    "print(Angle(-870.3, \"gradians\").normalize(-pi, pi))\n",
    "print(Angle(-870.3, \"gradians\").normalize(-pi, 0))\n",
    "\n",
    "print(Angle(-7.5*pi).normalize())\n",
    "print(Angle(-7.5*pi).normalize(-pi,pi))\n",
    "print(Angle(0).normalize(-pi,pi))\n",
    "print(Angle(pi).normalize(-pi,pi))"
   ]
  },
  {
   "cell_type": "code",
   "execution_count": 2,
   "metadata": {},
   "outputs": [
    {
     "name": "stdout",
     "output_type": "stream",
     "text": [
      "0 to 2pi sanity checks\n",
      "0.0 rad\n",
      "3.141592653589793 rad\n",
      "3.141592653589793 rad\n",
      "3.141592653589793 rad\n",
      "\n",
      "default args and wrapping\n",
      "1.5707963267948983 rad\n",
      "1.5707963267948983 rad\n",
      "1.5707963267948983 rad\n",
      "5.497787143782137 rad\n",
      "0.7853981633974492 rad\n",
      "\n",
      "-pi to pi\n",
      "0.0 rad\n",
      "1.5707963267948983 rad\n",
      "-0.7853981633974492 rad\n",
      "\n",
      "-pi to 0\n",
      "-3.141592653589793 rad\n",
      "-1.5707963267948966 rad\n",
      "-1.5707963267948966 rad\n",
      "\n",
      "because we like gradians?\n",
      "5.178915489442774 rad\n",
      "-1.104269817736812 rad\n",
      "-1.104269817736812 rad\n"
     ]
    }
   ],
   "source": [
    "\n",
    "from math import pi\n",
    "\n",
    "from anglr import Angle\n",
    "\n",
    "print(\"0 to 2pi sanity checks\")\n",
    "print(Angle(0).normalized(0,2*pi)) # 0 as provided\n",
    "print(Angle(pi).normalized(0,2*pi)) # pi as provided\n",
    "print(Angle(-pi).normalized(0,2*pi)) # wrap to pi\n",
    "print(Angle(7*pi).normalized(2*pi,0)) # same as above despite range out of order\n",
    "print(\"\\ndefault args and wrapping\")  \n",
    "print(Angle(-7.5*pi).normalized())\n",
    "print(Angle(-7.5*pi).normalized(0)) # same as above\n",
    "print(Angle(-7.5*pi).normalized(0,2*pi)) # same as above\n",
    "print(Angle(-8.25*pi).normalized(0,2*pi)) # wrap beyond above to cross Tau\n",
    "print(Angle(8.25*pi).normalized(0,2*pi)) # cross over other way\n",
    "print(\"\\n-pi to pi\")\n",
    "print(Angle(0).normalized(-pi,pi)) #sanity check\n",
    "print(Angle(-7.5*pi).normalized(-pi,pi))\n",
    "print(Angle(-8.25*pi).normalized(-pi,pi)) # cross over\n",
    "print(\"\\n-pi to 0\") # not sure why this normalization range is useful or if results are valid:\n",
    "print(Angle(0).normalized(-pi,0))\n",
    "print(Angle(-pi/2).normalized(-pi,0))\n",
    "print(Angle(pi/2).normalized(-pi,0))\n",
    "print(\"\\nbecause we like gradians?\")\n",
    "print(Angle(-870.3, \"gradians\").normalized(0, 2 * pi))\n",
    "print(Angle(-870.3, \"gradians\").normalized(-pi, pi))\n",
    "print(Angle(-870.3, \"gradians\").normalized(-pi, 0))"
   ]
  }
 ],
 "metadata": {
  "kernelspec": {
   "display_name": "Python 3",
   "language": "python",
   "name": "python3"
  },
  "language_info": {
   "codemirror_mode": {
    "name": "ipython",
    "version": 3
   },
   "file_extension": ".py",
   "mimetype": "text/x-python",
   "name": "python",
   "nbconvert_exporter": "python",
   "pygments_lexer": "ipython3",
   "version": "3.10.12"
  }
 },
 "nbformat": 4,
 "nbformat_minor": 2
}
